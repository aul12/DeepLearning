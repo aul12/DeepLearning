{
 "cells": [
  {
   "cell_type": "markdown",
   "metadata": {},
   "source": [
    "# Exercise 7"
   ]
  },
  {
   "cell_type": "markdown",
   "metadata": {},
   "source": [
    "In this exercise, we will implement a recurrent network that operates on a sequence of input values and has to produce a single output value from that sequence."
   ]
  },
  {
   "cell_type": "code",
   "execution_count": 1,
   "metadata": {},
   "outputs": [],
   "source": [
    "import torch\n",
    "import torch.nn as nn"
   ]
  },
  {
   "cell_type": "markdown",
   "metadata": {},
   "source": [
    "## Dataset"
   ]
  },
  {
   "cell_type": "markdown",
   "metadata": {},
   "source": [
    "The task of our network will be to count how long the input sequence is. For this, we generate a dataset with sequences of random length and with random values. We zero-pad the sequences to be the same length zeros, so that we can perform batching in the data loader. In order for the network to be able to distinguish the padding from the real sequence, we do not allow zeros to occur in the original sequence."
   ]
  },
  {
   "cell_type": "code",
   "execution_count": 2,
   "metadata": {},
   "outputs": [],
   "source": [
    "from torch.utils.data import Dataset, DataLoader\n",
    "import random\n",
    "\n",
    "class CountDataset(Dataset):\n",
    "    def __init__(self, num_samples, max_seq_len):\n",
    "        super(CountDataset, self).__init__()\n",
    "\n",
    "        def gen_seq():\n",
    "            seq_len = random.randint(1, max_seq_len)\n",
    "            return {\n",
    "                \"sequence\": torch.as_tensor(\n",
    "                    # random values of chosen length\n",
    "                    [random.randint(1, 10000) for _ in range(seq_len)] +\n",
    "                    # pad with zeros\n",
    "                    [0 for _ in range(max_seq_len - seq_len)]\n",
    "                ),\n",
    "                \"label\": torch.as_tensor(seq_len) # the label is just the length of the sequence\n",
    "            }\n",
    "\n",
    "        # generate a bunch of these sequences\n",
    "        self.data = [gen_seq() for _ in range(num_samples)]\n",
    "\n",
    "    def __getitem__(self, index):\n",
    "        return self.data[index]\n",
    "\n",
    "    def __len__(self):\n",
    "        return len(self.data)"
   ]
  },
  {
   "cell_type": "markdown",
   "metadata": {},
   "source": [
    "## Dataloader"
   ]
  },
  {
   "cell_type": "code",
   "execution_count": 3,
   "metadata": {},
   "outputs": [],
   "source": [
    "from torch.utils.data import DataLoader\n",
    "\n",
    "train_data = CountDataset(20000, 10)\n",
    "val_data = CountDataset(3000, 10)"
   ]
  },
  {
   "cell_type": "code",
   "execution_count": 4,
   "metadata": {},
   "outputs": [],
   "source": [
    "BATCH_SIZE = 128\n",
    "train_loader = DataLoader(train_data, batch_size=BATCH_SIZE, shuffle=True, pin_memory=True)\n",
    "val_loader = DataLoader(val_data, batch_size=BATCH_SIZE, shuffle=False, pin_memory=True)"
   ]
  },
  {
   "cell_type": "markdown",
   "metadata": {},
   "source": [
    "## Network"
   ]
  },
  {
   "cell_type": "markdown",
   "metadata": {},
   "source": [
    "Our network consists of just the RNN, followed by a linear layer to produce the final output."
   ]
  },
  {
   "cell_type": "code",
   "execution_count": 5,
   "metadata": {},
   "outputs": [],
   "source": [
    "import torch.nn.functional as F\n",
    "\n",
    "device = \"cuda\" if torch.cuda.is_available() else \"cpu\"\n",
    "\n",
    "class Regression_RNN(nn.Module):\n",
    "    def __init__(self, input_size, output_size):\n",
    "        super(Regression_RNN, self).__init__()\n",
    "        self.hidden_size = 10\n",
    "        #self.rnn = nn.RNN(input_size, self.hidden_size, batch_first=True)\n",
    "        #self.linear = nn.Linear(self.hidden_size, output_size)\n",
    "        self.u_layer = nn.Linear(input_size, self.hidden_size)\n",
    "        self.w_layer = nn.Linear(self.hidden_size, self.hidden_size)\n",
    "        self.v_layer = nn.Linear(self.hidden_size, output_size)\n",
    "        self.output_size = output_size\n",
    "\n",
    "    def forward(self, sequences):\n",
    "        out = torch.zeros(size=(sequences.shape[0], self.output_size), device=device)\n",
    "        for s_i, sequence in enumerate(sequences):\n",
    "            c = torch.zeros(size=(self.hidden_size,), device=device)\n",
    "            \n",
    "            sequence = self.u_layer(sequence)\n",
    "            \n",
    "            for e_i, elem in enumerate(sequence):\n",
    "                recurrent = self.w_layer(c)\n",
    "                c = torch.tanh(elem + recurrent)\n",
    "            out[s_i] = self.v_layer(c)\n",
    "        \n",
    "        return out"
   ]
  },
  {
   "cell_type": "markdown",
   "metadata": {},
   "source": [
    "## Training"
   ]
  },
  {
   "cell_type": "code",
   "execution_count": 6,
   "metadata": {},
   "outputs": [],
   "source": [
    "model = Regression_RNN(1, 1)\n",
    "model.to(device)\n",
    "LR = 0.001\n",
    "optimizer = torch.optim.Adam(model.parameters(), lr=LR, weight_decay=0.0001)"
   ]
  },
  {
   "cell_type": "code",
   "execution_count": 7,
   "metadata": {},
   "outputs": [
    {
     "name": "stderr",
     "output_type": "stream",
     "text": [
      "train epoch 0: 100%|██████████| 157/157 [00:36<00:00,  4.25it/s, loss=26.3]\n",
      "val epoch 0: 100%|██████████| 24/24 [00:02<00:00,  9.19it/s, loss=17.9]\n",
      "train epoch 1: 100%|██████████| 157/157 [00:36<00:00,  4.25it/s, loss=15.3]\n",
      "val epoch 1: 100%|██████████| 24/24 [00:02<00:00,  9.12it/s, loss=12.3]\n",
      "train epoch 2: 100%|██████████| 157/157 [00:37<00:00,  4.24it/s, loss=11.9]\n",
      "val epoch 2: 100%|██████████| 24/24 [00:02<00:00,  8.95it/s, loss=10.2]\n",
      "train epoch 3: 100%|██████████| 157/157 [00:36<00:00,  4.26it/s, loss=9.61]\n",
      "val epoch 3: 100%|██████████| 24/24 [00:02<00:00,  9.06it/s, loss=7.79]\n",
      "train epoch 4: 100%|██████████| 157/157 [00:36<00:00,  4.25it/s, loss=4.89]\n",
      "val epoch 4: 100%|██████████| 24/24 [00:02<00:00,  9.10it/s, loss=2.63]\n",
      "train epoch 5: 100%|██████████| 157/157 [00:37<00:00,  4.24it/s, loss=2.11]\n",
      "val epoch 5: 100%|██████████| 24/24 [00:02<00:00,  8.97it/s, loss=1.34]\n",
      "train epoch 6: 100%|██████████| 157/157 [00:37<00:00,  4.24it/s, loss=1.15]\n",
      "val epoch 6: 100%|██████████| 24/24 [00:02<00:00,  8.92it/s, loss=0.738]\n",
      "train epoch 7: 100%|██████████| 157/157 [00:37<00:00,  4.23it/s, loss=0.665]\n",
      "val epoch 7: 100%|██████████| 24/24 [00:02<00:00,  9.04it/s, loss=0.431]\n",
      "train epoch 8: 100%|██████████| 157/157 [00:37<00:00,  4.22it/s, loss=0.395]\n",
      "val epoch 8: 100%|██████████| 24/24 [00:02<00:00,  8.99it/s, loss=0.253]\n",
      "train epoch 9: 100%|██████████| 157/157 [00:37<00:00,  4.24it/s, loss=0.233]\n",
      "val epoch 9: 100%|██████████| 24/24 [00:02<00:00,  9.11it/s, loss=0.147]\n"
     ]
    }
   ],
   "source": [
    "from torch.nn.functional import mse_loss\n",
    "import numpy as np\n",
    "import tqdm\n",
    "\n",
    "NUM_EPOCHS = 10\n",
    "\n",
    "train_losses = []\n",
    "val_losses = []\n",
    "\n",
    "for epoch in range(NUM_EPOCHS):\n",
    "    # perform training followed by validation\n",
    "    for mode, loader in [\n",
    "        (\"train\", train_loader),\n",
    "        (\"val\", val_loader)\n",
    "    ]:\n",
    "        # progressbar setup\n",
    "        num_batches = len(loader)\n",
    "        pbar = tqdm.tqdm(total=num_batches, desc=f\"{mode} epoch {epoch}\")\n",
    "\n",
    "        if mode == \"train\":\n",
    "            model.train() # do calculate gradients for training mode\n",
    "        else:\n",
    "            model.eval() # do not calculate gradients in validation mode\n",
    "\n",
    "        # initial values of the metrics\n",
    "        runningLoss = 0.\n",
    "        correct_predictions = 0\n",
    "        # total number of samples that were processed\n",
    "        total_samples = 0\n",
    "        \n",
    "        # loop over the data\n",
    "        for i_batch, batch in enumerate(loader):\n",
    "            sequences, labels = batch['sequence'], batch['label']\n",
    "            \n",
    "            # move tensors to the correct device\n",
    "            sequences = sequences.to(device)\n",
    "            labels = labels.to(device)\n",
    "            \n",
    "            # convert everything to floats\n",
    "            sequences = sequences.view(*sequences.shape, 1).to(torch.float)\n",
    "            labels = labels.view(*labels.shape, 1).to(torch.float)\n",
    "            \n",
    "            # run the model\n",
    "            predictions = model(sequences)\n",
    "\n",
    "            # loss calculation\n",
    "            loss = mse_loss(predictions, labels)\n",
    "\n",
    "            # calculate the metrics for the progress bar\n",
    "            num_batch_samples = len(sequences)\n",
    "            runningLoss += loss.item() * num_batch_samples\n",
    "            total_samples += num_batch_samples\n",
    "            \n",
    "            pbar.update(1)\n",
    "            pbar.set_postfix({\n",
    "                \"loss\": runningLoss / total_samples\n",
    "            })\n",
    "\n",
    "            # weight update\n",
    "            if mode == \"train\":\n",
    "                optimizer.zero_grad()\n",
    "                loss.backward()\n",
    "                optimizer.step()\n",
    "                \n",
    "        epoch_loss = runningLoss / total_samples\n",
    "        if mode == \"train\":\n",
    "            train_losses.append(epoch_loss)\n",
    "        else:\n",
    "            val_losses.append(epoch_loss)\n",
    "\n",
    "        pbar.close()"
   ]
  },
  {
   "cell_type": "code",
   "execution_count": 8,
   "metadata": {},
   "outputs": [
    {
     "data": {
      "image/png": "[encoded data removed]",
      "text/plain": [
       "<Figure size 432x288 with 1 Axes>"
      ]
     },
     "metadata": {
      "needs_background": "light"
     },
     "output_type": "display_data"
    }
   ],
   "source": [
    "import matplotlib.pyplot as plt\n",
    "%matplotlib inline\n",
    "\n",
    "plt.plot(train_losses, '--', label=\"training loss\")\n",
    "plt.plot(val_losses, label=\"validation loss\")\n",
    "plt.legend()\n",
    "\n",
    "plt.show()"
   ]
  },
  {
   "cell_type": "code",
   "execution_count": 9,
   "metadata": {},
   "outputs": [
    {
     "name": "stdout",
     "output_type": "stream",
     "text": [
      "\u001b[32m[4676, 0, 0, 0, 0, 0, 0, 0, 0, 0]: 1.0037165880203247 -> 1 [label: 1] -> correct\n",
      "\u001b[32m[7517, 5044, 2268, 3021, 0, 0, 0, 0, 0, 0]: 3.893145799636841 -> 4 [label: 4] -> correct\n",
      "\u001b[32m[4517, 2767, 882, 1249, 0, 0, 0, 0, 0, 0]: 3.893145799636841 -> 4 [label: 4] -> correct\n",
      "\u001b[32m[995, 987, 2446, 1777, 1359, 7355, 1422, 4170, 0, 0]: 7.963444232940674 -> 8 [label: 8] -> correct\n",
      "\u001b[32m[4862, 1961, 3382, 9562, 4501, 7462, 22, 9313, 0, 0]: 7.963444232940674 -> 8 [label: 8] -> correct\n",
      "\u001b[32m[9183, 8836, 1423, 6998, 421, 6019, 9810, 7817, 5533, 0]: 8.83346939086914 -> 9 [label: 9] -> correct\n",
      "\u001b[32m[4047, 2374, 0, 0, 0, 0, 0, 0, 0, 0]: 2.0356979370117188 -> 2 [label: 2] -> correct\n",
      "\u001b[32m[9963, 8110, 5003, 6560, 3158, 9701, 1151, 1411, 5976, 0]: 8.83346939086914 -> 9 [label: 9] -> correct\n",
      "\u001b[32m[6422, 8955, 4104, 7488, 3760, 7068, 4471, 0, 0, 0]: 7.110887050628662 -> 7 [label: 7] -> correct\n",
      "\u001b[32m[2570, 8431, 5730, 3955, 6518, 6738, 0, 0, 0, 0]: 6.1021199226379395 -> 6 [label: 6] -> correct\n",
      "\u001b[31m[8131, 4997, 2471, 8962, 6343, 716, 1876, 6258, 753, 5898]: 8.73241138458252 -> 9 [label: 10] -> incorrect\n",
      "\u001b[32m[8490, 1562, 3193, 3395, 0, 0, 0, 0, 0, 0]: 3.893145799636841 -> 4 [label: 4] -> correct\n",
      "\u001b[32m[2650, 6264, 1495, 7761, 4034, 7622, 0, 0, 0, 0]: 6.1021199226379395 -> 6 [label: 6] -> correct\n",
      "\u001b[32m[3019, 7279, 5178, 5512, 8797, 1239, 3125, 0, 0, 0]: 7.110887050628662 -> 7 [label: 7] -> correct\n",
      "\u001b[32m[2966, 4784, 8948, 901, 5973, 0, 0, 0, 0, 0]: 4.966772079467773 -> 5 [label: 5] -> correct\n",
      "\u001b[32m[7835, 7572, 7097, 7468, 5987, 6799, 5154, 0, 0, 0]: 7.110887050628662 -> 7 [label: 7] -> correct\n",
      "\u001b[32m[257, 4879, 703, 6530, 5122, 5546, 0, 0, 0, 0]: 6.1021199226379395 -> 6 [label: 6] -> correct\n",
      "\u001b[31m[2971, 4279, 9311, 6490, 8941, 8976, 9214, 8766, 3407, 3931]: 8.73241138458252 -> 9 [label: 10] -> incorrect\n",
      "\u001b[32m[4690, 7068, 629, 7217, 0, 0, 0, 0, 0, 0]: 3.893145799636841 -> 4 [label: 4] -> correct\n",
      "\u001b[32m[5405, 156, 5668, 8761, 0, 0, 0, 0, 0, 0]: 3.893145799636841 -> 4 [label: 4] -> correct\n",
      "\u001b[0m"
     ]
    }
   ],
   "source": [
    "model.eval()\n",
    "\n",
    "for x in range(20):\n",
    "    sequence, label = val_data[x][\"sequence\"], val_data[x][\"label\"]\n",
    "    \n",
    "    prediction = model(sequence.view(1, -1, 1).to(torch.float).to(device))\n",
    "    rounded = round(prediction.item())\n",
    "    correct = rounded == label.item()\n",
    "    if correct:\n",
    "        print('\\x1b[32m', end='') # green text\n",
    "    else:\n",
    "        print('\\x1b[31m', end='') # red text\n",
    "    print(f\"{sequence.tolist()}: {prediction.item()} -> {rounded} [label: {label.item()}] -> {'correct' if correct else 'incorrect'}\")\n",
    "    \n",
    "print('\\x1b[0m', end='') # reset to default color\n",
    "# in practice, use the termcolor or colorama package to print colored text. I just couldn't be sure if you have it installed."
   ]
  },
  {
   "cell_type": "markdown",
   "metadata": {},
   "source": [
    "## Tasks for this notebook:\n",
    "\n",
    " - Instead of using nn.RNN, implement the RNN manually according to the lecture slides.\n",
    " \n",
    "## Task: Memory copying\n",
    "In a separate notebook, train an RNN for a different task: Memory copying. For this task, each input sequence consists of the following:\n",
    "   - N random numbers from 0-8, followed by\n",
    "   - T zeros, followed by\n",
    "   - the value 9 three times, followed by\n",
    "   - N zeros\n",
    "   \n",
    "The task of the network is then to generate a sequence of values, which are:\n",
    "   - N+T+3 arbitrary values (not important), followed by\n",
    "   - the same N random numbers from the start of the input sequence.\n",
    "   \n",
    "Some examples for $N=5, T=3$:\n",
    "\n",
    " - Input sequence: [9, 3, 7, 1, 2, 0, 0, 0, 9, 9, 9, 0, 0, 0, 0, 0]\n",
    " - Target sequence: [0, 0, 0, 0, 0, 0, 0, 0, 0, 0, 0, 9, 3, 7, 1, 2] (0 denotes arbitrary values)\n",
    " - Input sequence: [7, 1, 5, 7, 5, 0, 0, 0, 9, 9, 9, 0, 0, 0, 0, 0]:\n",
    " - Target sequence: [0, 0, 0, 0, 0, 0, 0, 0, 0, 0, 0, 7, 1, 5, 7, 5] (0 denotes arbitrary values)\n",
    "   \n",
    "The task is thus to \"remember\" the numbers from the start of the sequence, and to produce them when the three nines have been encountered in the input sequence. With the parameter T, the delay until the numbers have to be produced can be amplified. Try out different values of T. For which values of T does the network still converge? Try exchanging nn.RNN for nn.LSTM and see if it can work with higher values of T. What is the reason that the network performance decreases for higher numbers of T?"
   ]
  }
 ],
 "metadata": {
  "kernelspec": {
   "display_name": "Python 3",
   "language": "python",
   "name": "python3"
  },
  "language_info": {
   "codemirror_mode": {
    "name": "ipython",
    "version": 3
   },
   "file_extension": ".py",
   "mimetype": "text/x-python",
   "name": "python",
   "nbconvert_exporter": "python",
   "pygments_lexer": "ipython3",
   "version": "3.8.2"
  }
 },
 "nbformat": 4,
 "nbformat_minor": 4
}
