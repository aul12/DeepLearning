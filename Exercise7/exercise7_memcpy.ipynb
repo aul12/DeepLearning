{
 "cells": [
  {
   "cell_type": "markdown",
   "metadata": {},
   "source": [
    "# Exercise 7"
   ]
  },
  {
   "cell_type": "markdown",
   "metadata": {},
   "source": [
    "In this exercise, we will implement a recurrent network that operates on a sequence of input values and has to produce a single output value from that sequence."
   ]
  },
  {
   "cell_type": "code",
   "execution_count": 1,
   "metadata": {},
   "outputs": [],
   "source": [
    "import torch\n",
    "import torch.nn as nn"
   ]
  },
  {
   "cell_type": "markdown",
   "metadata": {},
   "source": [
    "## Dataset"
   ]
  },
  {
   "cell_type": "markdown",
   "metadata": {},
   "source": [
    "The task of our network will be to count how long the input sequence is. For this, we generate a dataset with sequences of random length and with random values. We zero-pad the sequences to be the same length zeros, so that we can perform batching in the data loader. In order for the network to be able to distinguish the padding from the real sequence, we do not allow zeros to occur in the original sequence."
   ]
  },
  {
   "cell_type": "code",
   "execution_count": 2,
   "metadata": {},
   "outputs": [],
   "source": [
    "from torch.utils.data import Dataset, DataLoader\n",
    "import random\n",
    "\n",
    "class CpyDataset(Dataset):\n",
    "    def __init__(self, num_samples, N, T):\n",
    "        super(CpyDataset, self).__init__()\n",
    "\n",
    "        def gen_seq():\n",
    "            seq = [random.randint(0, 8) for _ in range(N)]\n",
    "            return {\n",
    "                \"sequence\": torch.as_tensor(seq + [0] * T + [9] * 3 + [0] * N),\n",
    "                \"label\": torch.as_tensor(seq) # the label is just the length of the sequence\n",
    "            }\n",
    "\n",
    "        # generate a bunch of these sequences\n",
    "        self.data = [gen_seq() for _ in range(num_samples)]\n",
    "\n",
    "    def __getitem__(self, index):\n",
    "        return self.data[index]\n",
    "\n",
    "    def __len__(self):\n",
    "        return len(self.data)"
   ]
  },
  {
   "cell_type": "markdown",
   "metadata": {},
   "source": [
    "## Dataloader"
   ]
  },
  {
   "cell_type": "code",
   "execution_count": 3,
   "metadata": {},
   "outputs": [],
   "source": [
    "from torch.utils.data import DataLoader\n",
    "\n",
    "N = 5\n",
    "T = 0\n",
    "seq_len = 2*N + T + 3\n",
    "\n",
    "train_data = CpyDataset(20000, N, T)\n",
    "val_data = CpyDataset(3000, N, T)"
   ]
  },
  {
   "cell_type": "code",
   "execution_count": 4,
   "metadata": {},
   "outputs": [],
   "source": [
    "BATCH_SIZE = 128\n",
    "train_loader = DataLoader(train_data, batch_size=BATCH_SIZE, shuffle=True, pin_memory=True)\n",
    "val_loader = DataLoader(val_data, batch_size=BATCH_SIZE, shuffle=False, pin_memory=True)"
   ]
  },
  {
   "cell_type": "markdown",
   "metadata": {},
   "source": [
    "## Network"
   ]
  },
  {
   "cell_type": "markdown",
   "metadata": {},
   "source": [
    "Our network consists of just the RNN, followed by a linear layer to produce the final output."
   ]
  },
  {
   "cell_type": "code",
   "execution_count": 14,
   "metadata": {},
   "outputs": [],
   "source": [
    "import torch.nn.functional as F\n",
    "\n",
    "device = \"cuda\" if torch.cuda.is_available() else \"cpu\"\n",
    "\n",
    "class Regression_RNN(nn.Module):\n",
    "    def __init__(self, input_size, output_size):\n",
    "        super(Regression_RNN, self).__init__()\n",
    "        self.hidden_size = 100\n",
    "        self.rnn = nn.RNN(input_size, self.hidden_size, batch_first=True)\n",
    "        self.linear = nn.Linear(self.hidden_size, output_size)\n",
    "\n",
    "    def forward(self, sequences):\n",
    "        rnn_out, hidden = self.rnn(sequences)\n",
    "        # Our RNN produces an output value for each input value in the sequence, but we use just the final value for our result\n",
    "        res = self.linear(rnn_out[:, -1])\n",
    "        return res\n"
   ]
  },
  {
   "cell_type": "markdown",
   "metadata": {},
   "source": [
    "## Training"
   ]
  },
  {
   "cell_type": "code",
   "execution_count": 15,
   "metadata": {},
   "outputs": [],
   "source": [
    "model = Regression_RNN(1, seq_len)\n",
    "model.to(device)\n",
    "LR = 0.001\n",
    "optimizer = torch.optim.Adam(model.parameters(), lr=LR, weight_decay=0.0001)"
   ]
  },
  {
   "cell_type": "code",
   "execution_count": 16,
   "metadata": {},
   "outputs": [
    {
     "name": "stderr",
     "output_type": "stream",
     "text": [
      "train epoch 0: 100%|██████████| 157/157 [00:00<00:00, 286.02it/s, loss=7.92]\n",
      "val epoch 0: 100%|██████████| 24/24 [00:00<00:00, 573.17it/s, loss=6.7] \n",
      "train epoch 1: 100%|██████████| 157/157 [00:00<00:00, 324.85it/s, loss=6.67]\n",
      "val epoch 1: 100%|██████████| 24/24 [00:00<00:00, 542.97it/s, loss=6.72]\n",
      "train epoch 2: 100%|██████████| 157/157 [00:00<00:00, 323.99it/s, loss=6.67]\n",
      "val epoch 2: 100%|██████████| 24/24 [00:00<00:00, 810.02it/s, loss=6.71]\n",
      "train epoch 3: 100%|██████████| 157/157 [00:00<00:00, 340.12it/s, loss=6.67]\n",
      "val epoch 3: 100%|██████████| 24/24 [00:00<00:00, 819.83it/s, loss=6.7] \n",
      "train epoch 4: 100%|██████████| 157/157 [00:00<00:00, 334.03it/s, loss=6.67]\n",
      "val epoch 4: 100%|██████████| 24/24 [00:00<00:00, 635.57it/s, loss=6.72]\n",
      "train epoch 5: 100%|██████████| 157/157 [00:00<00:00, 323.80it/s, loss=6.67]\n",
      "val epoch 5: 100%|██████████| 24/24 [00:00<00:00, 652.16it/s, loss=6.7] \n",
      "train epoch 6: 100%|██████████| 157/157 [00:00<00:00, 320.93it/s, loss=6.67]\n",
      "val epoch 6: 100%|██████████| 24/24 [00:00<00:00, 767.44it/s, loss=6.7] \n",
      "train epoch 7: 100%|██████████| 157/157 [00:00<00:00, 326.94it/s, loss=6.67]\n",
      "val epoch 7: 100%|██████████| 24/24 [00:00<00:00, 765.64it/s, loss=6.71]\n",
      "train epoch 8: 100%|██████████| 157/157 [00:00<00:00, 322.50it/s, loss=6.67]\n",
      "val epoch 8: 100%|██████████| 24/24 [00:00<00:00, 651.58it/s, loss=6.7] \n",
      "train epoch 9: 100%|██████████| 157/157 [00:00<00:00, 322.02it/s, loss=6.67]\n",
      "val epoch 9: 100%|██████████| 24/24 [00:00<00:00, 749.47it/s, loss=6.7] \n"
     ]
    }
   ],
   "source": [
    "from torch.nn.functional import mse_loss\n",
    "import numpy as np\n",
    "import tqdm\n",
    "\n",
    "NUM_EPOCHS = 10\n",
    "\n",
    "train_losses = []\n",
    "val_losses = []\n",
    "\n",
    "for epoch in range(NUM_EPOCHS):\n",
    "    # perform training followed by validation\n",
    "    for mode, loader in [\n",
    "        (\"train\", train_loader),\n",
    "        (\"val\", val_loader)\n",
    "    ]:\n",
    "        # progressbar setup\n",
    "        num_batches = len(loader)\n",
    "        pbar = tqdm.tqdm(total=num_batches, desc=f\"{mode} epoch {epoch}\")\n",
    "\n",
    "        if mode == \"train\":\n",
    "            model.train() # do calculate gradients for training mode\n",
    "        else:\n",
    "            model.eval() # do not calculate gradients in validation mode\n",
    "\n",
    "        # initial values of the metrics\n",
    "        runningLoss = 0.\n",
    "        correct_predictions = 0\n",
    "        # total number of samples that were processed\n",
    "        total_samples = 0\n",
    "        \n",
    "        # loop over the data\n",
    "        for i_batch, batch in enumerate(loader):\n",
    "            sequences, labels = batch['sequence'], batch['label']\n",
    "            \n",
    "            # move tensors to the correct device\n",
    "            sequences = sequences.to(device)\n",
    "            labels = labels.to(device)\n",
    "            \n",
    "            # convert everything to floats\n",
    "            sequences = sequences.view(*sequences.shape, 1).to(torch.float)\n",
    "            labels = labels.view(*labels.shape, 1).to(torch.float)\n",
    "            \n",
    "            # run the model\n",
    "            predictions = model(sequences)\n",
    "            predictions = torch.narrow(predictions, 1, seq_len-N, N).view(predictions.shape[0], N, 1)\n",
    "            \n",
    "            # loss calculation\n",
    "            loss = mse_loss(predictions, labels)\n",
    "\n",
    "            # calculate the metrics for the progress bar\n",
    "            num_batch_samples = len(sequences)\n",
    "            runningLoss += loss.item() * num_batch_samples\n",
    "            total_samples += num_batch_samples\n",
    "            \n",
    "            pbar.update(1)\n",
    "            pbar.set_postfix({\n",
    "                \"loss\": runningLoss / total_samples\n",
    "            })\n",
    "\n",
    "            # weight update\n",
    "            if mode == \"train\":\n",
    "                optimizer.zero_grad()\n",
    "                loss.backward()\n",
    "                optimizer.step()\n",
    "                \n",
    "        epoch_loss = runningLoss / total_samples\n",
    "        if mode == \"train\":\n",
    "            train_losses.append(epoch_loss)\n",
    "        else:\n",
    "            val_losses.append(epoch_loss)\n",
    "\n",
    "        pbar.close()"
   ]
  },
  {
   "cell_type": "code",
   "execution_count": 17,
   "metadata": {},
   "outputs": [
    {
     "data": {
      "image/png": "[encoded data removed]",
      "text/plain": [
       "<Figure size 432x288 with 1 Axes>"
      ]
     },
     "metadata": {
      "needs_background": "light"
     },
     "output_type": "display_data"
    }
   ],
   "source": [
    "import matplotlib.pyplot as plt\n",
    "%matplotlib inline\n",
    "\n",
    "plt.plot(train_losses, '--', label=\"training loss\")\n",
    "plt.plot(val_losses, label=\"validation loss\")\n",
    "plt.legend()\n",
    "\n",
    "plt.show()"
   ]
  },
  {
   "cell_type": "code",
   "execution_count": 19,
   "metadata": {},
   "outputs": [
    {
     "name": "stdout",
     "output_type": "stream",
     "text": [
      "[2, 3, 2, 4, 7, 9, 9, 9, 0, 0, 0, 0, 0] -> [0, 0, 0, 0, 0, 0, 0, 0, 4, 4, 4, 4, 4] [label: [2, 3, 2, 4, 7]]\n",
      "[6, 3, 6, 4, 0, 9, 9, 9, 0, 0, 0, 0, 0] -> [0, 0, 0, 0, 0, 0, 0, 0, 4, 4, 4, 4, 4] [label: [6, 3, 6, 4, 0]]\n",
      "[8, 0, 1, 8, 1, 9, 9, 9, 0, 0, 0, 0, 0] -> [0, 0, 0, 0, 0, 0, 0, 0, 4, 4, 4, 4, 4] [label: [8, 0, 1, 8, 1]]\n",
      "[4, 1, 4, 4, 1, 9, 9, 9, 0, 0, 0, 0, 0] -> [0, 0, 0, 0, 0, 0, 0, 0, 4, 4, 4, 4, 4] [label: [4, 1, 4, 4, 1]]\n",
      "[5, 4, 3, 5, 1, 9, 9, 9, 0, 0, 0, 0, 0] -> [0, 0, 0, 0, 0, 0, 0, 0, 4, 4, 4, 4, 4] [label: [5, 4, 3, 5, 1]]\n",
      "[3, 6, 6, 4, 1, 9, 9, 9, 0, 0, 0, 0, 0] -> [0, 0, 0, 0, 0, 0, 0, 0, 4, 4, 4, 4, 4] [label: [3, 6, 6, 4, 1]]\n",
      "[1, 8, 8, 3, 8, 9, 9, 9, 0, 0, 0, 0, 0] -> [0, 0, 0, 0, 0, 0, 0, 0, 4, 4, 4, 4, 4] [label: [1, 8, 8, 3, 8]]\n",
      "[3, 1, 7, 7, 6, 9, 9, 9, 0, 0, 0, 0, 0] -> [0, 0, 0, 0, 0, 0, 0, 0, 4, 4, 4, 4, 4] [label: [3, 1, 7, 7, 6]]\n",
      "[3, 8, 4, 3, 0, 9, 9, 9, 0, 0, 0, 0, 0] -> [0, 0, 0, 0, 0, 0, 0, 0, 4, 4, 4, 4, 4] [label: [3, 8, 4, 3, 0]]\n",
      "[1, 8, 8, 4, 4, 9, 9, 9, 0, 0, 0, 0, 0] -> [0, 0, 0, 0, 0, 0, 0, 0, 4, 4, 4, 4, 4] [label: [1, 8, 8, 4, 4]]\n",
      "[5, 4, 1, 0, 8, 9, 9, 9, 0, 0, 0, 0, 0] -> [0, 0, 0, 0, 0, 0, 0, 0, 4, 4, 4, 4, 4] [label: [5, 4, 1, 0, 8]]\n",
      "[3, 1, 6, 7, 0, 9, 9, 9, 0, 0, 0, 0, 0] -> [0, 0, 0, 0, 0, 0, 0, 0, 4, 4, 4, 4, 4] [label: [3, 1, 6, 7, 0]]\n",
      "[8, 3, 8, 3, 5, 9, 9, 9, 0, 0, 0, 0, 0] -> [0, 0, 0, 0, 0, 0, 0, 0, 4, 4, 4, 4, 4] [label: [8, 3, 8, 3, 5]]\n",
      "[4, 1, 6, 1, 0, 9, 9, 9, 0, 0, 0, 0, 0] -> [0, 0, 0, 0, 0, 0, 0, 0, 4, 4, 4, 4, 4] [label: [4, 1, 6, 1, 0]]\n",
      "[6, 1, 5, 3, 2, 9, 9, 9, 0, 0, 0, 0, 0] -> [0, 0, 0, 0, 0, 0, 0, 0, 4, 4, 4, 4, 4] [label: [6, 1, 5, 3, 2]]\n",
      "[3, 7, 8, 1, 5, 9, 9, 9, 0, 0, 0, 0, 0] -> [0, 0, 0, 0, 0, 0, 0, 0, 4, 4, 4, 4, 4] [label: [3, 7, 8, 1, 5]]\n",
      "[6, 1, 3, 6, 3, 9, 9, 9, 0, 0, 0, 0, 0] -> [0, 0, 0, 0, 0, 0, 0, 0, 4, 4, 4, 4, 4] [label: [6, 1, 3, 6, 3]]\n",
      "[6, 3, 6, 8, 8, 9, 9, 9, 0, 0, 0, 0, 0] -> [0, 0, 0, 0, 0, 0, 0, 0, 4, 4, 4, 4, 4] [label: [6, 3, 6, 8, 8]]\n",
      "[8, 8, 5, 6, 7, 9, 9, 9, 0, 0, 0, 0, 0] -> [0, 0, 0, 0, 0, 0, 0, 0, 4, 4, 4, 4, 4] [label: [8, 8, 5, 6, 7]]\n",
      "[1, 6, 6, 4, 5, 9, 9, 9, 0, 0, 0, 0, 0] -> [0, 0, 0, 0, 0, 0, 0, 0, 4, 4, 4, 4, 4] [label: [1, 6, 6, 4, 5]]\n"
     ]
    }
   ],
   "source": [
    "model.eval()\n",
    "\n",
    "for x in range(20):\n",
    "    sequence, label = val_data[x][\"sequence\"], val_data[x][\"label\"]\n",
    "    \n",
    "    prediction = model(sequence.view(1, -1, 1).to(torch.float).to(device))\n",
    "    \n",
    "    pred_rounded = list(map(lambda x: round(x), prediction.view(-1).tolist()))\n",
    "    \n",
    "    print(f\"{sequence.tolist()} -> {pred_rounded} [label: {label.tolist()}]\")\n"
   ]
  },
  {
   "cell_type": "markdown",
   "metadata": {},
   "source": [
    "## Tasks for this notebook:\n",
    "\n",
    " - Instead of using nn.RNN, implement the RNN manually according to the lecture slides.\n",
    " \n",
    "## Task: Memory copying\n",
    "In a separate notebook, train an RNN for a different task: Memory copying. For this task, each input sequence consists of the following:\n",
    "   - N random numbers from 0-8, followed by\n",
    "   - T zeros, followed by\n",
    "   - the value 9 three times, followed by\n",
    "   - N zeros\n",
    "   \n",
    "The task of the network is then to generate a sequence of values, which are:\n",
    "   - N+T+3 arbitrary values (not important), followed by\n",
    "   - the same N random numbers from the start of the input sequence.\n",
    "   \n",
    "Some examples for $N=5, T=3$:\n",
    "\n",
    " - Input sequence: [9, 3, 7, 1, 2, 0, 0, 0, 9, 9, 9, 0, 0, 0, 0, 0]\n",
    " - Target sequence: [0, 0, 0, 0, 0, 0, 0, 0, 0, 0, 0, 9, 3, 7, 1, 2] (0 denotes arbitrary values)\n",
    " - Input sequence: [7, 1, 5, 7, 5, 0, 0, 0, 9, 9, 9, 0, 0, 0, 0, 0]:\n",
    " - Target sequence: [0, 0, 0, 0, 0, 0, 0, 0, 0, 0, 0, 7, 1, 5, 7, 5] (0 denotes arbitrary values)\n",
    "   \n",
    "The task is thus to \"remember\" the numbers from the start of the sequence, and to produce them when the three nines have been encountered in the input sequence. With the parameter T, the delay until the numbers have to be produced can be amplified. Try out different values of T. For which values of T does the network still converge? Try exchanging nn.RNN for nn.LSTM and see if it can work with higher values of T. What is the reason that the network performance decreases for higher numbers of T?"
   ]
  },
  {
   "cell_type": "markdown",
   "metadata": {},
   "source": [
    "Even for $T=0$ the model does not converge, the Loss decreases slightly but not sufficiently. Thus the results are wrong as well."
   ]
  },
  {
   "cell_type": "code",
   "execution_count": null,
   "metadata": {},
   "outputs": [],
   "source": []
  }
 ],
 "metadata": {
  "kernelspec": {
   "display_name": "Python 3",
   "language": "python",
   "name": "python3"
  },
  "language_info": {
   "codemirror_mode": {
    "name": "ipython",
    "version": 3
   },
   "file_extension": ".py",
   "mimetype": "text/x-python",
   "name": "python",
   "nbconvert_exporter": "python",
   "pygments_lexer": "ipython3",
   "version": "3.8.2"
  }
 },
 "nbformat": 4,
 "nbformat_minor": 4
}
